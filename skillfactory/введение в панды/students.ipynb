{
 "cells": [
  {
   "cell_type": "code",
   "execution_count": 21,
   "metadata": {},
   "outputs": [
    {
     "name": "stdout",
     "output_type": "stream",
     "text": [
      "-5.827586206896555\n"
     ]
    }
   ],
   "source": [
    "import pandas as pd\n",
    "students =  pd.read_csv(\"/Users/danilsautenkov/Library/Containers/com.microsoft.Excel/Data/Downloads/students_performance.csv\")\n",
    "print((students[students['race/ethnicity']=='group B' ]['writing score'].median()) - (students[students['race/ethnicity']=='group C' ]['writing score'].mean()) )"
   ]
  }
 ],
 "metadata": {
  "kernelspec": {
   "display_name": "Python 3.10.6 64-bit",
   "language": "python",
   "name": "python3"
  },
  "language_info": {
   "codemirror_mode": {
    "name": "ipython",
    "version": 3
   },
   "file_extension": ".py",
   "mimetype": "text/x-python",
   "name": "python",
   "nbconvert_exporter": "python",
   "pygments_lexer": "ipython3",
   "version": "3.10.6"
  },
  "orig_nbformat": 4,
  "vscode": {
   "interpreter": {
    "hash": "aee8b7b246df8f9039afb4144a1f6fd8d2ca17a180786b69acc140d282b71a49"
   }
  }
 },
 "nbformat": 4,
 "nbformat_minor": 2
}
